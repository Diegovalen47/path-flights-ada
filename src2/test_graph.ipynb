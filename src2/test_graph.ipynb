{
 "cells": [
  {
   "cell_type": "code",
   "execution_count": 3,
   "metadata": {
    "ExecuteTime": {
     "end_time": "2023-06-25T17:23:03.375817600Z",
     "start_time": "2023-06-25T17:23:03.374816200Z"
    }
   },
   "outputs": [],
   "source": [
    "import ipycytoscape\n",
    "import networkx as nx\n",
    "from itertools import combinations, groupby\n",
    "from random import SystemRandom, random, choice, sample\n",
    "from IPython.display import display\n",
    "from Node import Node\n",
    "from Edge import Edge\n",
    "from Graph import Graph\n",
    "from Flight import Flight\n",
    "from math import ceil\n",
    "import json"
   ]
  },
  {
   "cell_type": "code",
   "execution_count": 9,
   "metadata": {
    "is_executing": true
   },
   "outputs": [],
   "source": [
    "def random_world_path_generator(n, p):\n",
    "    edges = combinations(range(n), 2)\n",
    "    G = nx.Graph()\n",
    "    G.add_nodes_from(range(n))\n",
    "    if p <= 0:\n",
    "        return G\n",
    "    if p >= 1:\n",
    "        return nx.complete_graph(n, create_using=G)\n",
    "    for _, node_edges in groupby(edges, key=lambda x: x[0]):\n",
    "        node_edges = list(node_edges)\n",
    "        random_edge = choice(node_edges)\n",
    "        G.add_edge(*random_edge)\n",
    "        for e in node_edges:\n",
    "            if random() < p:\n",
    "                G.add_edge(*e)\n",
    "\n",
    "    for (start, end) in G.edges:\n",
    "        G.edges[start, end]['weight'] = random()\n",
    "\n",
    "    return G"
   ]
  },
  {
   "cell_type": "code",
   "execution_count": 16,
   "metadata": {
    "ExecuteTime": {
     "end_time": "2023-06-25T17:19:19.729916100Z",
     "start_time": "2023-06-25T17:19:19.708929900Z"
    }
   },
   "outputs": [
    {
     "data": {
      "application/vnd.jupyter.widget-view+json": {
       "model_id": "fea31f49a541494f9d1298627c7a0258",
       "version_major": 2,
       "version_minor": 0
      },
      "text/plain": [
       "CytoscapeWidget(cytoscape_layout={'name': 'cola'}, cytoscape_style=[{'selector': 'node', 'style': {'label': 'd…"
      ]
     },
     "metadata": {},
     "output_type": "display_data"
    }
   ],
   "source": [
    "G = random_world_path_generator(20,0.1)\n",
    "cyto = ipycytoscape.CytoscapeWidget()\n",
    "cyto.graph.add_graph_from_networkx(G)\n",
    "\n",
    "cyto.set_style(\n",
    "    [\n",
    "        {\n",
    "            'selector': 'node',\n",
    "            'style': {\n",
    "                'label': 'data(id)'\n",
    "            }\n",
    "        },\n",
    "        {\n",
    "            'selector': 'edge',\n",
    "            'style': {\n",
    "                'labela': 'data(weight)'\n",
    "            }\n",
    "        }\n",
    "    ]\n",
    ")\n",
    "\n",
    "display(cyto)"
   ]
  },
  {
   "cell_type": "code",
   "execution_count": 42,
   "metadata": {},
   "outputs": [
    {
     "data": {
      "text/plain": [
       "EdgeDataView([(0, 9, 0.3478377680941023), (0, 2, 0.12187847275551555), (0, 3, 0.4746216994733774), (0, 12, 0.1573876609555811), (0, 17, 0.2264122544705719), (1, 6, 0.8488933144933902), (1, 13, 0.1547189035238573), (2, 6, 0.8021791536218935), (2, 9, 0.7507388367166836), (2, 11, 0.4054972575307073), (2, 12, 0.8295450470066804), (2, 13, 0.5382297497410184), (2, 15, 0.45821881036881107), (2, 16, 0.19962581056720718), (3, 12, 0.052240232883030924), (3, 5, 0.926022784059893), (3, 16, 0.5272905144931254), (4, 18, 0.07123521198860405), (5, 17, 0.15980790733744987), (5, 10, 0.2973191729023944), (5, 18, 0.6135601465733082), (6, 14, 0.15030414895914068), (7, 18, 0.8398339485423969), (8, 16, 0.2681210324553347), (9, 13, 0.5327010445310679), (10, 17, 0.0012775748961203481), (10, 19, 0.0009145028750959794), (11, 17, 0.12476071000109823), (11, 14, 0.6439858264175066), (12, 14, 0.16436614657094117), (12, 18, 0.834009151260361), (12, 19, 0.6722899028953415), (13, 14, 0.6230600260686306), (14, 17, 0.769508674646497), (15, 18, 0.0009868683338417616), (16, 19, 0.6817903817773996), (17, 19, 0.14063692920359905), (18, 19, 0.9754094070918463)])"
      ]
     },
     "execution_count": 42,
     "metadata": {},
     "output_type": "execute_result"
    }
   ],
   "source": [
    "G.edges.data('weight')"
   ]
  },
  {
   "cell_type": "code",
   "execution_count": null,
   "metadata": {},
   "outputs": [],
   "source": []
  }
 ],
 "metadata": {
  "kernelspec": {
   "display_name": "Python 3 (ipykernel)",
   "language": "python",
   "name": "python3"
  },
  "language_info": {
   "codemirror_mode": {
    "name": "ipython",
    "version": 3
   },
   "file_extension": ".py",
   "mimetype": "text/x-python",
   "name": "python",
   "nbconvert_exporter": "python",
   "pygments_lexer": "ipython3",
   "version": "3.11.3"
  }
 },
 "nbformat": 4,
 "nbformat_minor": 1
}
