{
 "cells": [
  {
   "cell_type": "code",
   "execution_count": 1,
   "metadata": {
    "ExecuteTime": {
     "end_time": "2023-06-25T19:54:36.907371200Z",
     "start_time": "2023-06-25T19:54:36.760062900Z"
    }
   },
   "outputs": [],
   "source": [
    "import ipycytoscape\n",
    "import networkx as nx\n",
    "from itertools import combinations, groupby\n",
    "from random import SystemRandom, random, choice, sample\n",
    "from IPython.display import display\n",
    "from Node import Node\n",
    "from Edge import Edge\n",
    "from Graph import Graph\n",
    "from Flight import Flight\n",
    "from math import ceil\n",
    "import json"
   ]
  },
  {
   "cell_type": "code",
   "execution_count": 2,
   "metadata": {},
   "outputs": [],
   "source": [
    "from Node import Node\n",
    "from Edge import Edge\n",
    "\n",
    "\n",
    "class Graph:\n",
    "\n",
    "    graph: dict = {}\n",
    "\n",
    "    @staticmethod\n",
    "    def create_graph():\n",
    "        Graph.graph = {i: {} for i in Node.nodes.keys()}\n",
    "        for egde in Edge.egdes:\n",
    "            Graph.graph[egde.start][egde.end] = egde.weight\n",
    "            Graph.graph[egde.end][egde.start] = egde.weight\n",
    "\n",
    "    def __repr__(self):\n",
    "        return f\"Graph({Graph.graph})\""
   ]
  },
  {
   "cell_type": "code",
   "execution_count": 3,
   "metadata": {},
   "outputs": [],
   "source": [
    "import Flight\n",
    "\n",
    "\n",
    "class Node:\n",
    "\n",
    "    nodes: dict = {}\n",
    "    nodes_quantity: int = 0\n",
    "\n",
    "    def __init__(self, id: int, latitude: float, longitude: float):\n",
    "        self.id: int = id\n",
    "        self.latitude: float = latitude\n",
    "        self.longitude: float = longitude\n",
    "        self.flights: list[Flight] = []\n",
    "        Node.nodes[id] = self\n",
    "        Node.nodes_quantity += 1\n",
    "\n",
    "    def get_flights(self):\n",
    "        if self.flights:\n",
    "            return self.flights\n",
    "        else:\n",
    "            return None\n",
    "\n",
    "    def add_flight(self, flight: Flight):\n",
    "        self.flights.append(flight)\n",
    "\n",
    "    def __repr__(self):\n",
    "        return f\"Node(id={self.id}, latitude={self.latitude}, longitude={self.longitude})\"\n"
   ]
  },
  {
   "cell_type": "code",
   "execution_count": 4,
   "metadata": {},
   "outputs": [],
   "source": [
    "import networkx as nx\n",
    "from itertools import combinations, groupby\n",
    "from random import SystemRandom, random, choice, sample, randint\n",
    "from Node import Node\n",
    "from Edge import Edge\n",
    "from Graph import Graph\n",
    "from Flight import Flight\n",
    "from math import ceil\n",
    "import json\n",
    "import matplotlib.pyplot as plt\n",
    "\n",
    "\n",
    "def random_world_path_generator(n, p):\n",
    "    edges = combinations(range(n), 2)\n",
    "    G = nx.Graph()\n",
    "    G.add_nodes_from(range(n))\n",
    "    if p <= 0:\n",
    "        return G\n",
    "    if p >= 1:\n",
    "        return nx.complete_graph(n, create_using=G)\n",
    "    for _, node_edges in groupby(edges, key=lambda x: x[0]):\n",
    "        node_edges = list(node_edges)\n",
    "        random_edge = choice(node_edges)\n",
    "        G.add_edge(*random_edge)\n",
    "        for e in node_edges:\n",
    "            if random() < p:\n",
    "                G.add_edge(*e)\n",
    "\n",
    "    for (start, end) in G.edges:\n",
    "        G.edges[start, end]['weight'] = randint(0, 20)\n",
    "    return G\n",
    "\n",
    "\n",
    "def create_world_path(nodes_quantity):\n",
    "    random_graph = random_world_path_generator(nodes_quantity, 0.1)\n",
    "\n",
    "    for node in random_graph.nodes:\n",
    "        Node(node, SystemRandom().uniform(-90, 90), SystemRandom().uniform(-180, 180))\n",
    "\n",
    "    for start, end, weight in random_graph.edges.data('weight'):\n",
    "        Edge(start, end, weight)\n",
    "\n",
    "    Graph.create_graph()\n",
    "    \n",
    "    return random_graph\n"
   ]
  },
  {
   "cell_type": "code",
   "execution_count": 5,
   "metadata": {},
   "outputs": [
    {
     "data": {
      "application/vnd.jupyter.widget-view+json": {
       "model_id": "7eec8026534f44f6a59b16703b487cb5",
       "version_major": 2,
       "version_minor": 0
      },
      "text/plain": [
       "CytoscapeWidget(cytoscape_layout={'name': 'cola'}, cytoscape_style=[{'selector': 'node', 'style': {'label': 'd…"
      ]
     },
     "metadata": {},
     "output_type": "display_data"
    }
   ],
   "source": [
    "G = random_world_path_generator(20,0.1)\n",
    "cyto = ipycytoscape.CytoscapeWidget()\n",
    "cyto.graph.add_graph_from_networkx(G)\n",
    "\n",
    "cyto.set_style(\n",
    "    [\n",
    "        {\n",
    "            'selector': 'node',\n",
    "            'style': {\n",
    "                'label': 'data(id)'\n",
    "            }\n",
    "        },\n",
    "        {\n",
    "            'selector': 'edge',\n",
    "            'style': {\n",
    "                'label': 'data(weight)'\n",
    "            }\n",
    "        }\n",
    "    ]\n",
    ")\n",
    "\n",
    "display(cyto)"
   ]
  },
  {
   "cell_type": "code",
   "execution_count": 6,
   "metadata": {},
   "outputs": [
    {
     "name": "stdout",
     "output_type": "stream",
     "text": [
      "Graph with 4 nodes and 3 edges\n"
     ]
    },
    {
     "data": {
      "application/vnd.jupyter.widget-view+json": {
       "model_id": "5f84db717b4b42d1870d9bf5d134d64b",
       "version_major": 2,
       "version_minor": 0
      },
      "text/plain": [
       "CytoscapeWidget(cytoscape_layout={'name': 'cola'}, cytoscape_style=[{'selector': 'node', 'style': {'label': 'd…"
      ]
     },
     "metadata": {},
     "output_type": "display_data"
    },
    {
     "name": "stdout",
     "output_type": "stream",
     "text": [
      "4\n"
     ]
    },
    {
     "ename": "KeyError",
     "evalue": "5",
     "output_type": "error",
     "traceback": [
      "\u001B[1;31m---------------------------------------------------------------------------\u001B[0m",
      "\u001B[1;31mKeyError\u001B[0m                                  Traceback (most recent call last)",
      "Cell \u001B[1;32mIn[6], line 51\u001B[0m\n\u001B[0;32m     47\u001B[0m                 graphSPD[v] \u001B[38;5;241m=\u001B[39m spdU \u001B[38;5;241m+\u001B[39m d\n\u001B[0;32m     48\u001B[0m                 heapq\u001B[38;5;241m.\u001B[39mheappush(queue, (graphSPD[v], v))\n\u001B[1;32m---> 51\u001B[0m \u001B[43mdijkstra\u001B[49m\u001B[43m(\u001B[49m\u001B[43morigin_node\u001B[49m\u001B[43m)\u001B[49m\n\u001B[0;32m     52\u001B[0m \u001B[38;5;28mprint\u001B[39m(graphSPD)\n",
      "Cell \u001B[1;32mIn[6], line 45\u001B[0m, in \u001B[0;36mdijkstra\u001B[1;34m(id_origin)\u001B[0m\n\u001B[0;32m     43\u001B[0m \u001B[38;5;28;01mwhile\u001B[39;00m \u001B[38;5;28mlen\u001B[39m(queue) \u001B[38;5;241m>\u001B[39m \u001B[38;5;241m0\u001B[39m:\n\u001B[0;32m     44\u001B[0m     spdU, u \u001B[38;5;241m=\u001B[39m heapq\u001B[38;5;241m.\u001B[39mheappop(queue)\n\u001B[1;32m---> 45\u001B[0m     \u001B[38;5;28;01mfor\u001B[39;00m v, d \u001B[38;5;129;01min\u001B[39;00m \u001B[43mGraph\u001B[49m\u001B[38;5;241;43m.\u001B[39;49m\u001B[43mgraph\u001B[49m\u001B[43m[\u001B[49m\u001B[43mu\u001B[49m\u001B[43m]\u001B[49m\u001B[38;5;241m.\u001B[39mitems():\n\u001B[0;32m     46\u001B[0m         \u001B[38;5;28;01mif\u001B[39;00m spdU \u001B[38;5;241m+\u001B[39m d \u001B[38;5;241m<\u001B[39m graphSPD[v]:\n\u001B[0;32m     47\u001B[0m             graphSPD[v] \u001B[38;5;241m=\u001B[39m spdU \u001B[38;5;241m+\u001B[39m d\n",
      "\u001B[1;31mKeyError\u001B[0m: 5"
     ]
    }
   ],
   "source": [
    "from math import inf\n",
    "import heapq\n",
    "\n",
    "n = 4\n",
    "\n",
    "\n",
    "G = create_world_path(n)\n",
    "print(G)\n",
    "cyto = ipycytoscape.CytoscapeWidget()\n",
    "cyto.graph.add_graph_from_networkx(G)\n",
    "\n",
    "cyto.set_style(\n",
    "    [\n",
    "        {\n",
    "            'selector': 'node',\n",
    "            'style': {\n",
    "                'label': 'data(id)'\n",
    "            }\n",
    "        },\n",
    "        {\n",
    "            'selector': 'edge',\n",
    "            'style': {\n",
    "                'label': 'data(weight)'\n",
    "            }\n",
    "        }\n",
    "    ]\n",
    ")\n",
    "\n",
    "display(cyto)\n",
    "\n",
    "print(Node.nodes_quantity)\n",
    "\n",
    "origin_node = 5\n",
    "\n",
    "graphSPD: dict = dict([(i, inf) for i in range(Node.nodes_quantity)])\n",
    "graphSPD[origin_node] = 0\n",
    "\n",
    "\n",
    "def dijkstra(id_origin):\n",
    "    global graphSPD\n",
    "    queue: list = []\n",
    "    heapq.heappush(queue, (0, id_origin))  # (SPD, node)\n",
    "    while len(queue) > 0:\n",
    "        spdU, u = heapq.heappop(queue)\n",
    "        for v, d in Graph.graph[u].items():\n",
    "            if spdU + d < graphSPD[v]:\n",
    "                graphSPD[v] = spdU + d\n",
    "                heapq.heappush(queue, (graphSPD[v], v))\n",
    "\n",
    "\n",
    "dijkstra(origin_node)\n",
    "print(graphSPD)"
   ]
  },
  {
   "cell_type": "code",
   "execution_count": null,
   "metadata": {},
   "outputs": [],
   "source": []
  }
 ],
 "metadata": {
  "kernelspec": {
   "display_name": "Python 3 (ipykernel)",
   "language": "python",
   "name": "python3"
  },
  "language_info": {
   "codemirror_mode": {
    "name": "ipython",
    "version": 3
   },
   "file_extension": ".py",
   "mimetype": "text/x-python",
   "name": "python",
   "nbconvert_exporter": "python",
   "pygments_lexer": "ipython3",
   "version": "3.11.3"
  }
 },
 "nbformat": 4,
 "nbformat_minor": 1
}
